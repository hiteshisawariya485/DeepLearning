{
  "nbformat": 4,
  "nbformat_minor": 0,
  "metadata": {
    "colab": {
      "provenance": [],
      "authorship_tag": "ABX9TyN16qygcwQjoRcnZ0B9YxEy",
      "include_colab_link": true
    },
    "kernelspec": {
      "name": "python3",
      "display_name": "Python 3"
    },
    "language_info": {
      "name": "python"
    }
  },
  "cells": [
    {
      "cell_type": "markdown",
      "metadata": {
        "id": "view-in-github",
        "colab_type": "text"
      },
      "source": [
        "<a href=\"https://colab.research.google.com/github/hiteshisawariya485/DeepLearning/blob/main/Practical_13_NLP.ipynb\" target=\"_parent\"><img src=\"https://colab.research.google.com/assets/colab-badge.svg\" alt=\"Open In Colab\"/></a>"
      ]
    },
    {
      "cell_type": "code",
      "execution_count": null,
      "metadata": {
        "id": "4EqKePIbdfaY"
      },
      "outputs": [],
      "source": [
        "import nltk\n",
        "from nltk.tokenize import word_tokenize\n",
        "from nltk.corpus import stopwords\n",
        "from nltk.stem import PorterStemmer, WordNetLemmatizer\n",
        "import spacy"
      ]
    },
    {
      "cell_type": "code",
      "source": [
        "# Download required resources for NLTK\n",
        "nltk.download('punkt')\n",
        "nltk.download('stopwords')\n",
        "nltk.download('wordnet')\n",
        "nltk.download('omw-1.4')\n",
        "nltk.download('punkt_tab')"
      ],
      "metadata": {
        "colab": {
          "base_uri": "https://localhost:8080/"
        },
        "id": "YOT17lV_dsX2",
        "outputId": "9302f149-785f-4d92-c1d3-57fc274e6524"
      },
      "execution_count": null,
      "outputs": [
        {
          "output_type": "stream",
          "name": "stderr",
          "text": [
            "[nltk_data] Downloading package punkt to /root/nltk_data...\n",
            "[nltk_data]   Package punkt is already up-to-date!\n",
            "[nltk_data] Downloading package stopwords to /root/nltk_data...\n",
            "[nltk_data]   Package stopwords is already up-to-date!\n",
            "[nltk_data] Downloading package wordnet to /root/nltk_data...\n",
            "[nltk_data]   Package wordnet is already up-to-date!\n",
            "[nltk_data] Downloading package omw-1.4 to /root/nltk_data...\n",
            "[nltk_data]   Package omw-1.4 is already up-to-date!\n",
            "[nltk_data] Downloading package punkt_tab to /root/nltk_data...\n",
            "[nltk_data]   Unzipping tokenizers/punkt_tab.zip.\n"
          ]
        },
        {
          "output_type": "execute_result",
          "data": {
            "text/plain": [
              "True"
            ]
          },
          "metadata": {},
          "execution_count": 17
        }
      ]
    },
    {
      "cell_type": "code",
      "source": [
        "# Input text\n",
        "text = \"Hey! we're learning Deep Learning.\\n Today's topic is Natural Language Processing.\\n we're using Tokenizaton, Stemming and Spacy module.\""
      ],
      "metadata": {
        "id": "EWCrH5IIgjpP"
      },
      "execution_count": null,
      "outputs": []
    },
    {
      "cell_type": "code",
      "source": [
        "# Tokenization and Stemming using NLTK\n",
        "def nltk_tokenize_and_stem(text):\n",
        "    stemmer = PorterStemmer()\n",
        "    tokens = word_tokenize(text)\n",
        "    stemmed = [stemmer.stem(token) for token in tokens]\n",
        "    return stemmed\n",
        "\n",
        "print(\"a) NLTK Tokenization and Stemming:\")\n",
        "print(nltk_tokenize_and_stem(text))"
      ],
      "metadata": {
        "colab": {
          "base_uri": "https://localhost:8080/"
        },
        "id": "RdXwZRWZg7U7",
        "outputId": "bd02acee-8def-43da-f4fa-95a141557c7b"
      },
      "execution_count": null,
      "outputs": [
        {
          "output_type": "stream",
          "name": "stdout",
          "text": [
            "a) NLTK Tokenization and Stemming:\n",
            "['hey', '!', 'we', \"'re\", 'learn', 'deep', 'learn', '.', 'today', \"'s\", 'topic', 'is', 'natur', 'languag', 'process', '.', 'we', \"'re\", 'use', 'tokenizaton', ',', 'stem', 'and', 'spaci', 'modul', '.']\n"
          ]
        }
      ]
    },
    {
      "cell_type": "code",
      "source": [
        "# Lemmatization and Stopword Removal using NLTK\n",
        "\n",
        "def nltk_lemmatize_and_remove_stopwords(text):\n",
        "    lemmatizer = WordNetLemmatizer()\n",
        "    stop_words = set(stopwords.words('english'))\n",
        "    tokens = word_tokenize(text)\n",
        "    filtered = [lemmatizer.lemmatize(token.lower()) for token in tokens if token.lower() not in stop_words]\n",
        "    return filtered\n",
        "\n",
        "\n",
        "print(\"\\nb) NLTK Lemmatization and Stopword Removal:\")\n",
        "print(nltk_lemmatize_and_remove_stopwords(text))"
      ],
      "metadata": {
        "colab": {
          "base_uri": "https://localhost:8080/"
        },
        "id": "ixN1op7VhGsO",
        "outputId": "af110cd5-eb2e-4453-a1a3-9ff8c24469e1"
      },
      "execution_count": null,
      "outputs": [
        {
          "output_type": "stream",
          "name": "stdout",
          "text": [
            "\n",
            "b) NLTK Lemmatization and Stopword Removal:\n",
            "['hey', '!', \"'re\", 'learning', 'deep', 'learning', '.', 'today', \"'s\", 'topic', 'natural', 'language', 'processing', '.', \"'re\", 'using', 'tokenizaton', ',', 'stemming', 'spacy', 'module', '.']\n"
          ]
        }
      ]
    },
    {
      "cell_type": "code",
      "source": [
        "# c) Lemmatization and Stopword Removal using spaCy\n",
        "\n",
        "def spacy_lemmatize_and_remove_stopwords(text):\n",
        "    nlp = spacy.load(\"en_core_web_sm\")\n",
        "    doc = nlp(text)\n",
        "    filtered = [token.lemma_ for token in doc if not token.is_stop and token.is_alpha]\n",
        "    return filtered\n",
        "\n",
        "\n",
        "print(\"\\nc) spaCy Lemmatization and Stopword Removal:\")\n",
        "print(spacy_lemmatize_and_remove_stopwords(text))"
      ],
      "metadata": {
        "colab": {
          "base_uri": "https://localhost:8080/"
        },
        "id": "-FPHPgZljUdK",
        "outputId": "ec490233-55b6-41ec-c764-c5c361e35ece"
      },
      "execution_count": null,
      "outputs": [
        {
          "output_type": "stream",
          "name": "stdout",
          "text": [
            "\n",
            "c) spaCy Lemmatization and Stopword Removal:\n",
            "['hey', 'learn', 'Deep', 'Learning', 'today', 'topic', 'Natural', 'Language', 'Processing', 'Tokenizaton', 'Stemming', 'Spacy', 'module']\n"
          ]
        }
      ]
    }
  ]
}